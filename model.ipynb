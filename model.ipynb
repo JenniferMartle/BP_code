{
 "cells": [
  {
   "cell_type": "code",
   "execution_count": 1,
   "metadata": {},
   "outputs": [],
   "source": [
    "import pandas as pd\n",
    "import numpy as np\n",
    "import seaborn as sns\n",
    "\n",
    "from sklearn.preprocessing import StandardScaler\n",
    "from sklearn.preprocessing import OneHotEncoder\n",
    "from category_encoders import HashingEncoder\n",
    "\n",
    "from sklearn.linear_model import LinearRegression\n",
    "from sklearn.linear_model import Lasso\n",
    "from sklearn.neighbors import KNeighborsRegressor\n",
    "from sklearn.linear_model import Ridge\n",
    "from sklearn.ensemble import GradientBoostingRegressor\n",
    "from sklearn.linear_model import SGDRegressor\n",
    "from sklearn.tree import DecisionTreeRegressor\n",
    "from sklearn.ensemble import RandomForestRegressor\n",
    "from sklearn.metrics import mean_squared_error\n",
    "from sklearn.metrics import mean_absolute_error\n",
    "from sklearn.metrics import r2_score\n",
    "from category_encoders import HashingEncoder\n",
    "from xgboost import XGBRegressor\n",
    "from sklearn.metrics import mean_absolute_percentage_error"
   ]
  },
  {
   "cell_type": "code",
   "execution_count": 22,
   "metadata": {},
   "outputs": [],
   "source": [
    "df=pd.read_csv('SPL_fe.csv', low_memory=False, index_col='Unnamed: 0')"
   ]
  },
  {
   "cell_type": "code",
   "execution_count": 25,
   "metadata": {},
   "outputs": [],
   "source": [
    "dfPred=pd.read_csv('pred.csv', low_memory=False, index_col='Unnamed: 0')"
   ]
  },
  {
   "cell_type": "code",
   "execution_count": 26,
   "metadata": {},
   "outputs": [
    {
     "data": {
      "text/html": [
       "<div>\n",
       "<style scoped>\n",
       "    .dataframe tbody tr th:only-of-type {\n",
       "        vertical-align: middle;\n",
       "    }\n",
       "\n",
       "    .dataframe tbody tr th {\n",
       "        vertical-align: top;\n",
       "    }\n",
       "\n",
       "    .dataframe thead th {\n",
       "        text-align: right;\n",
       "    }\n",
       "</style>\n",
       "<table border=\"1\" class=\"dataframe\">\n",
       "  <thead>\n",
       "    <tr style=\"text-align: right;\">\n",
       "      <th></th>\n",
       "      <th>checkoutyear</th>\n",
       "      <th>checkoutmonth</th>\n",
       "      <th>publisher</th>\n",
       "      <th>pages</th>\n",
       "      <th>rating</th>\n",
       "      <th>count_ratings</th>\n",
       "      <th>count_reviews</th>\n",
       "      <th>perc_5stars</th>\n",
       "      <th>perc_4stars</th>\n",
       "      <th>perc_3stars</th>\n",
       "      <th>perc_2stars</th>\n",
       "      <th>perc_1stars</th>\n",
       "      <th>count_books_author</th>\n",
       "      <th>count_followers_author</th>\n",
       "      <th>awards</th>\n",
       "      <th>publicationyear</th>\n",
       "      <th>genres</th>\n",
       "      <th>creator</th>\n",
       "    </tr>\n",
       "  </thead>\n",
       "  <tbody>\n",
       "    <tr>\n",
       "      <th>0</th>\n",
       "      <td>2023</td>\n",
       "      <td>5</td>\n",
       "      <td>Vrijdag,</td>\n",
       "      <td>271</td>\n",
       "      <td>4.03</td>\n",
       "      <td>3851</td>\n",
       "      <td>450</td>\n",
       "      <td>37</td>\n",
       "      <td>37</td>\n",
       "      <td>18</td>\n",
       "      <td>5</td>\n",
       "      <td>1</td>\n",
       "      <td>1</td>\n",
       "      <td>228</td>\n",
       "      <td>0</td>\n",
       "      <td>2017</td>\n",
       "      <td>['Fiction','Roman','Romance','Young Adult','Sc...</td>\n",
       "      <td>Zita Theunynck</td>\n",
       "    </tr>\n",
       "  </tbody>\n",
       "</table>\n",
       "</div>"
      ],
      "text/plain": [
       "   checkoutyear  checkoutmonth publisher  pages  rating  count_ratings  \\\n",
       "0          2023              5  Vrijdag,    271    4.03           3851   \n",
       "\n",
       "   count_reviews  perc_5stars  perc_4stars  perc_3stars  perc_2stars  \\\n",
       "0            450           37           37           18            5   \n",
       "\n",
       "   perc_1stars  count_books_author  count_followers_author  awards  \\\n",
       "0            1                   1                     228       0   \n",
       "\n",
       "   publicationyear                                             genres  \\\n",
       "0             2017  ['Fiction','Roman','Romance','Young Adult','Sc...   \n",
       "\n",
       "          creator  \n",
       "0  Zita Theunynck  "
      ]
     },
     "execution_count": 26,
     "metadata": {},
     "output_type": "execute_result"
    }
   ],
   "source": [
    "dfPred"
   ]
  },
  {
   "cell_type": "code",
   "execution_count": 69,
   "metadata": {},
   "outputs": [
    {
     "data": {
      "text/plain": [
       "2158064"
      ]
     },
     "execution_count": 69,
     "metadata": {},
     "output_type": "execute_result"
    }
   ],
   "source": [
    "len(df)"
   ]
  },
  {
   "cell_type": "code",
   "execution_count": 70,
   "metadata": {},
   "outputs": [
    {
     "data": {
      "text/html": [
       "<div>\n",
       "<style scoped>\n",
       "    .dataframe tbody tr th:only-of-type {\n",
       "        vertical-align: middle;\n",
       "    }\n",
       "\n",
       "    .dataframe tbody tr th {\n",
       "        vertical-align: top;\n",
       "    }\n",
       "\n",
       "    .dataframe thead th {\n",
       "        text-align: right;\n",
       "    }\n",
       "</style>\n",
       "<table border=\"1\" class=\"dataframe\">\n",
       "  <thead>\n",
       "    <tr style=\"text-align: right;\">\n",
       "      <th></th>\n",
       "      <th>checkoutyear</th>\n",
       "      <th>checkoutmonth</th>\n",
       "      <th>checkouts</th>\n",
       "      <th>title</th>\n",
       "      <th>publisher</th>\n",
       "      <th>pages</th>\n",
       "      <th>rating</th>\n",
       "      <th>count_ratings</th>\n",
       "      <th>count_reviews</th>\n",
       "      <th>perc_5stars</th>\n",
       "      <th>perc_4stars</th>\n",
       "      <th>perc_3stars</th>\n",
       "      <th>perc_2stars</th>\n",
       "      <th>perc_1stars</th>\n",
       "      <th>count_books_author</th>\n",
       "      <th>count_followers_author</th>\n",
       "      <th>awards</th>\n",
       "      <th>publicationyear</th>\n",
       "      <th>genres</th>\n",
       "      <th>creator</th>\n",
       "    </tr>\n",
       "  </thead>\n",
       "  <tbody>\n",
       "    <tr>\n",
       "      <th>0</th>\n",
       "      <td>2020</td>\n",
       "      <td>2</td>\n",
       "      <td>1</td>\n",
       "      <td>What's it really like to be a carpenter? / Chr...</td>\n",
       "      <td>PowerKids Press,</td>\n",
       "      <td>24.0</td>\n",
       "      <td>3.915075</td>\n",
       "      <td>0</td>\n",
       "      <td>0</td>\n",
       "      <td>0</td>\n",
       "      <td>0</td>\n",
       "      <td>0</td>\n",
       "      <td>0</td>\n",
       "      <td>0</td>\n",
       "      <td>84.0</td>\n",
       "      <td>1.0</td>\n",
       "      <td>0</td>\n",
       "      <td>2020.0</td>\n",
       "      <td>['Carpentry Vocational guidance Juvenile liter...</td>\n",
       "      <td>Christine Honders</td>\n",
       "    </tr>\n",
       "    <tr>\n",
       "      <th>1</th>\n",
       "      <td>2020</td>\n",
       "      <td>2</td>\n",
       "      <td>2</td>\n",
       "      <td>Nana in the city / by Lauren Castillo.</td>\n",
       "      <td>Clarion Books, Houghton Mifflin Harcourt,</td>\n",
       "      <td>40.0</td>\n",
       "      <td>4.090000</td>\n",
       "      <td>2710</td>\n",
       "      <td>581</td>\n",
       "      <td>34</td>\n",
       "      <td>43</td>\n",
       "      <td>19</td>\n",
       "      <td>2</td>\n",
       "      <td>1</td>\n",
       "      <td>28.0</td>\n",
       "      <td>141.0</td>\n",
       "      <td>1</td>\n",
       "      <td>2014.0</td>\n",
       "      <td>['Picture Books', 'Family', 'Childrens', 'Fict...</td>\n",
       "      <td>Lauren Castillo</td>\n",
       "    </tr>\n",
       "    <tr>\n",
       "      <th>2</th>\n",
       "      <td>2020</td>\n",
       "      <td>2</td>\n",
       "      <td>2</td>\n",
       "      <td>Blindness / José Saramago ; translated from th...</td>\n",
       "      <td>Harcourt Brace &amp; Company,</td>\n",
       "      <td>293.0</td>\n",
       "      <td>4.160000</td>\n",
       "      <td>263610</td>\n",
       "      <td>21675</td>\n",
       "      <td>44</td>\n",
       "      <td>35</td>\n",
       "      <td>14</td>\n",
       "      <td>4</td>\n",
       "      <td>1</td>\n",
       "      <td>313.0</td>\n",
       "      <td>14100.0</td>\n",
       "      <td>2</td>\n",
       "      <td>1998.0</td>\n",
       "      <td>['Fiction', 'Dystopia', 'Science Fiction', 'Cl...</td>\n",
       "      <td>José Saramago</td>\n",
       "    </tr>\n",
       "    <tr>\n",
       "      <th>3</th>\n",
       "      <td>2020</td>\n",
       "      <td>2</td>\n",
       "      <td>4</td>\n",
       "      <td>The liar's girl / Catherine Ryan Howard.</td>\n",
       "      <td>Blackstone Publishing,</td>\n",
       "      <td>330.0</td>\n",
       "      <td>3.920000</td>\n",
       "      <td>17642</td>\n",
       "      <td>1642</td>\n",
       "      <td>24</td>\n",
       "      <td>48</td>\n",
       "      <td>23</td>\n",
       "      <td>3</td>\n",
       "      <td>1</td>\n",
       "      <td>22.0</td>\n",
       "      <td>2689.0</td>\n",
       "      <td>1</td>\n",
       "      <td>2018.0</td>\n",
       "      <td>['Mystery', 'Thriller', 'Fiction', 'Audiobook'...</td>\n",
       "      <td>Catherine Ryan Howard</td>\n",
       "    </tr>\n",
       "    <tr>\n",
       "      <th>4</th>\n",
       "      <td>2020</td>\n",
       "      <td>2</td>\n",
       "      <td>1</td>\n",
       "      <td>The aloha quilt / Jennifer Chiaverini.</td>\n",
       "      <td>Thorndike Press,</td>\n",
       "      <td>324.0</td>\n",
       "      <td>3.890000</td>\n",
       "      <td>4946</td>\n",
       "      <td>653</td>\n",
       "      <td>29</td>\n",
       "      <td>37</td>\n",
       "      <td>27</td>\n",
       "      <td>5</td>\n",
       "      <td>1</td>\n",
       "      <td>56.0</td>\n",
       "      <td>3890.0</td>\n",
       "      <td>0</td>\n",
       "      <td>2010.0</td>\n",
       "      <td>['Fiction', 'Quilting', 'Chick Lit', 'Historic...</td>\n",
       "      <td>Jennifer Chiaverini</td>\n",
       "    </tr>\n",
       "  </tbody>\n",
       "</table>\n",
       "</div>"
      ],
      "text/plain": [
       "   checkoutyear  checkoutmonth  checkouts  \\\n",
       "0          2020              2          1   \n",
       "1          2020              2          2   \n",
       "2          2020              2          2   \n",
       "3          2020              2          4   \n",
       "4          2020              2          1   \n",
       "\n",
       "                                               title  \\\n",
       "0  What's it really like to be a carpenter? / Chr...   \n",
       "1             Nana in the city / by Lauren Castillo.   \n",
       "2  Blindness / José Saramago ; translated from th...   \n",
       "3           The liar's girl / Catherine Ryan Howard.   \n",
       "4             The aloha quilt / Jennifer Chiaverini.   \n",
       "\n",
       "                                   publisher  pages    rating  count_ratings  \\\n",
       "0                           PowerKids Press,   24.0  3.915075              0   \n",
       "1  Clarion Books, Houghton Mifflin Harcourt,   40.0  4.090000           2710   \n",
       "2                  Harcourt Brace & Company,  293.0  4.160000         263610   \n",
       "3                     Blackstone Publishing,  330.0  3.920000          17642   \n",
       "4                           Thorndike Press,  324.0  3.890000           4946   \n",
       "\n",
       "   count_reviews  perc_5stars  perc_4stars  perc_3stars  perc_2stars  \\\n",
       "0              0            0            0            0            0   \n",
       "1            581           34           43           19            2   \n",
       "2          21675           44           35           14            4   \n",
       "3           1642           24           48           23            3   \n",
       "4            653           29           37           27            5   \n",
       "\n",
       "   perc_1stars  count_books_author  count_followers_author  awards  \\\n",
       "0            0                84.0                     1.0       0   \n",
       "1            1                28.0                   141.0       1   \n",
       "2            1               313.0                 14100.0       2   \n",
       "3            1                22.0                  2689.0       1   \n",
       "4            1                56.0                  3890.0       0   \n",
       "\n",
       "   publicationyear                                             genres  \\\n",
       "0           2020.0  ['Carpentry Vocational guidance Juvenile liter...   \n",
       "1           2014.0  ['Picture Books', 'Family', 'Childrens', 'Fict...   \n",
       "2           1998.0  ['Fiction', 'Dystopia', 'Science Fiction', 'Cl...   \n",
       "3           2018.0  ['Mystery', 'Thriller', 'Fiction', 'Audiobook'...   \n",
       "4           2010.0  ['Fiction', 'Quilting', 'Chick Lit', 'Historic...   \n",
       "\n",
       "                 creator  \n",
       "0      Christine Honders  \n",
       "1        Lauren Castillo  \n",
       "2          José Saramago  \n",
       "3  Catherine Ryan Howard  \n",
       "4    Jennifer Chiaverini  "
      ]
     },
     "execution_count": 70,
     "metadata": {},
     "output_type": "execute_result"
    }
   ],
   "source": [
    "df.head()"
   ]
  },
  {
   "attachments": {},
   "cell_type": "markdown",
   "metadata": {},
   "source": [
    "outlier detection"
   ]
  },
  {
   "cell_type": "code",
   "execution_count": 71,
   "metadata": {},
   "outputs": [
    {
     "data": {
      "text/plain": [
       "count    2.158064e+06\n",
       "mean     2.869657e+00\n",
       "std      7.499823e+00\n",
       "min      1.000000e+00\n",
       "25%      1.000000e+00\n",
       "50%      1.000000e+00\n",
       "75%      3.000000e+00\n",
       "max      5.390000e+02\n",
       "Name: checkouts, dtype: float64"
      ]
     },
     "execution_count": 71,
     "metadata": {},
     "output_type": "execute_result"
    }
   ],
   "source": [
    "df['checkouts'].describe()"
   ]
  },
  {
   "cell_type": "code",
   "execution_count": 72,
   "metadata": {},
   "outputs": [
    {
     "data": {
      "text/plain": [
       "<AxesSubplot:xlabel='checkouts'>"
      ]
     },
     "execution_count": 72,
     "metadata": {},
     "output_type": "execute_result"
    },
    {
     "data": {
      "image/png": "[encoded data removed]",
      "text/plain": [
       "<Figure size 432x288 with 1 Axes>"
      ]
     },
     "metadata": {
      "needs_background": "light"
     },
     "output_type": "display_data"
    }
   ],
   "source": [
    "sns.boxplot(x=df['checkouts'], flierprops = dict(markerfacecolor = '0.50', markersize = 2))"
   ]
  },
  {
   "cell_type": "code",
   "execution_count": 27,
   "metadata": {},
   "outputs": [
    {
     "name": "stdout",
     "output_type": "stream",
     "text": [
      "-2.0 6.0\n"
     ]
    }
   ],
   "source": [
    "Q1 = np.percentile(df['checkouts'], 25,\n",
    "                   method = 'midpoint')\n",
    " \n",
    "Q3 = np.percentile(df['checkouts'], 75,\n",
    "                   method = 'midpoint')\n",
    "IQR = Q3 - Q1\n",
    "\n",
    "upper=Q3+1.5*IQR\n",
    "lower=Q1-1.5*IQR\n",
    "\n",
    "print(lower, upper)\n",
    "df=df[df['checkouts']<upper]"
   ]
  },
  {
   "cell_type": "code",
   "execution_count": 74,
   "metadata": {},
   "outputs": [
    {
     "data": {
      "text/plain": [
       "1928779"
      ]
     },
     "execution_count": 74,
     "metadata": {},
     "output_type": "execute_result"
    }
   ],
   "source": [
    "len(df)"
   ]
  },
  {
   "attachments": {},
   "cell_type": "markdown",
   "metadata": {},
   "source": [
    "X en y def"
   ]
  },
  {
   "cell_type": "code",
   "execution_count": 28,
   "metadata": {},
   "outputs": [],
   "source": [
    "X=df.drop(['checkouts', 'title'], axis=1)\n",
    "y=df.checkouts\n",
    "# dfS"
   ]
  },
  {
   "cell_type": "code",
   "execution_count": 42,
   "metadata": {},
   "outputs": [
    {
     "data": {
      "text/plain": [
       "<AxesSubplot:xlabel='checkouts'>"
      ]
     },
     "execution_count": 42,
     "metadata": {},
     "output_type": "execute_result"
    },
    {
     "data": {
      "image/png": "[encoded data removed]",
      "text/plain": [
       "<Figure size 432x288 with 1 Axes>"
      ]
     },
     "metadata": {
      "needs_background": "light"
     },
     "output_type": "display_data"
    }
   ],
   "source": [
    "sns.boxplot(x=y, flierprops = dict(markerfacecolor = '0.50', markersize = 2))"
   ]
  },
  {
   "cell_type": "code",
   "execution_count": 75,
   "metadata": {},
   "outputs": [
    {
     "data": {
      "text/plain": [
       "count    2.158064e+06\n",
       "mean     2.869657e+00\n",
       "std      7.499823e+00\n",
       "min      1.000000e+00\n",
       "25%      1.000000e+00\n",
       "50%      1.000000e+00\n",
       "75%      3.000000e+00\n",
       "max      5.390000e+02\n",
       "Name: checkouts, dtype: float64"
      ]
     },
     "execution_count": 75,
     "metadata": {},
     "output_type": "execute_result"
    }
   ],
   "source": [
    "y.describe()"
   ]
  },
  {
   "attachments": {},
   "cell_type": "markdown",
   "metadata": {},
   "source": [
    "Train en test set"
   ]
  },
  {
   "cell_type": "code",
   "execution_count": 29,
   "metadata": {},
   "outputs": [],
   "source": [
    "size_df=len(df)\n",
    "t=int(np.round(size_df*0.8))\n",
    "X_train=X[:t]\n",
    "y_train=y[:t]\n",
    "X_test=X[t:]\n",
    "y_test=y[t:]"
   ]
  },
  {
   "cell_type": "code",
   "execution_count": 44,
   "metadata": {},
   "outputs": [
    {
     "data": {
      "text/html": [
       "<div>\n",
       "<style scoped>\n",
       "    .dataframe tbody tr th:only-of-type {\n",
       "        vertical-align: middle;\n",
       "    }\n",
       "\n",
       "    .dataframe tbody tr th {\n",
       "        vertical-align: top;\n",
       "    }\n",
       "\n",
       "    .dataframe thead th {\n",
       "        text-align: right;\n",
       "    }\n",
       "</style>\n",
       "<table border=\"1\" class=\"dataframe\">\n",
       "  <thead>\n",
       "    <tr style=\"text-align: right;\">\n",
       "      <th></th>\n",
       "      <th>checkoutyear</th>\n",
       "      <th>checkoutmonth</th>\n",
       "      <th>publisher</th>\n",
       "      <th>pages</th>\n",
       "      <th>rating</th>\n",
       "      <th>count_ratings</th>\n",
       "      <th>count_reviews</th>\n",
       "      <th>perc_5stars</th>\n",
       "      <th>perc_4stars</th>\n",
       "      <th>perc_3stars</th>\n",
       "      <th>perc_2stars</th>\n",
       "      <th>perc_1stars</th>\n",
       "      <th>count_books_author</th>\n",
       "      <th>count_followers_author</th>\n",
       "      <th>awards</th>\n",
       "      <th>publicationyear</th>\n",
       "      <th>genres</th>\n",
       "      <th>creator</th>\n",
       "    </tr>\n",
       "  </thead>\n",
       "  <tbody>\n",
       "    <tr>\n",
       "      <th>2158059</th>\n",
       "      <td>2023</td>\n",
       "      <td>2</td>\n",
       "      <td>Minotaur Books,</td>\n",
       "      <td>240.0</td>\n",
       "      <td>3.70</td>\n",
       "      <td>10554</td>\n",
       "      <td>1026</td>\n",
       "      <td>19</td>\n",
       "      <td>39</td>\n",
       "      <td>33</td>\n",
       "      <td>5</td>\n",
       "      <td>1</td>\n",
       "      <td>88.0</td>\n",
       "      <td>814.0</td>\n",
       "      <td>0</td>\n",
       "      <td>2015.0</td>\n",
       "      <td>['Mystery', 'Historical Fiction', 'Fiction', '...</td>\n",
       "      <td>Carola Dunn</td>\n",
       "    </tr>\n",
       "    <tr>\n",
       "      <th>2158060</th>\n",
       "      <td>2023</td>\n",
       "      <td>2</td>\n",
       "      <td>Creative Homeowner,</td>\n",
       "      <td>320.0</td>\n",
       "      <td>4.00</td>\n",
       "      <td>12</td>\n",
       "      <td>3</td>\n",
       "      <td>33</td>\n",
       "      <td>41</td>\n",
       "      <td>16</td>\n",
       "      <td>8</td>\n",
       "      <td>0</td>\n",
       "      <td>45.0</td>\n",
       "      <td>2.0</td>\n",
       "      <td>0</td>\n",
       "      <td>2011.0</td>\n",
       "      <td>['Nonfiction']</td>\n",
       "      <td>Roger Holmes</td>\n",
       "    </tr>\n",
       "    <tr>\n",
       "      <th>2158061</th>\n",
       "      <td>2023</td>\n",
       "      <td>2</td>\n",
       "      <td>Houghton Mifflin co.,</td>\n",
       "      <td>44.0</td>\n",
       "      <td>4.29</td>\n",
       "      <td>40831</td>\n",
       "      <td>1388</td>\n",
       "      <td>55</td>\n",
       "      <td>25</td>\n",
       "      <td>14</td>\n",
       "      <td>3</td>\n",
       "      <td>1</td>\n",
       "      <td>41.0</td>\n",
       "      <td>193.0</td>\n",
       "      <td>1</td>\n",
       "      <td>1942.0</td>\n",
       "      <td>['Picture Books', 'Childrens', 'Fiction', 'Cla...</td>\n",
       "      <td>Virginia Lee Burton</td>\n",
       "    </tr>\n",
       "    <tr>\n",
       "      <th>2158062</th>\n",
       "      <td>2023</td>\n",
       "      <td>2</td>\n",
       "      <td>Dial Books,</td>\n",
       "      <td>384.0</td>\n",
       "      <td>3.70</td>\n",
       "      <td>3611</td>\n",
       "      <td>908</td>\n",
       "      <td>19</td>\n",
       "      <td>41</td>\n",
       "      <td>30</td>\n",
       "      <td>7</td>\n",
       "      <td>1</td>\n",
       "      <td>9.0</td>\n",
       "      <td>1457.0</td>\n",
       "      <td>0</td>\n",
       "      <td>2022.0</td>\n",
       "      <td>['LGBT', 'Romance', 'Young Adult', 'Contempora...</td>\n",
       "      <td>Adib Khorram</td>\n",
       "    </tr>\n",
       "    <tr>\n",
       "      <th>2158063</th>\n",
       "      <td>2023</td>\n",
       "      <td>2</td>\n",
       "      <td>Jonathan Cape,</td>\n",
       "      <td>160.0</td>\n",
       "      <td>3.33</td>\n",
       "      <td>6</td>\n",
       "      <td>0</td>\n",
       "      <td>0</td>\n",
       "      <td>33</td>\n",
       "      <td>66</td>\n",
       "      <td>0</td>\n",
       "      <td>0</td>\n",
       "      <td>10.0</td>\n",
       "      <td>1.0</td>\n",
       "      <td>0</td>\n",
       "      <td>2001.0</td>\n",
       "      <td>['Mayne Roger', ' Photography Artistic']</td>\n",
       "      <td>Roger Mayne</td>\n",
       "    </tr>\n",
       "  </tbody>\n",
       "</table>\n",
       "</div>"
      ],
      "text/plain": [
       "         checkoutyear  checkoutmonth              publisher  pages  rating  \\\n",
       "2158059          2023              2        Minotaur Books,  240.0    3.70   \n",
       "2158060          2023              2    Creative Homeowner,  320.0    4.00   \n",
       "2158061          2023              2  Houghton Mifflin co.,   44.0    4.29   \n",
       "2158062          2023              2            Dial Books,  384.0    3.70   \n",
       "2158063          2023              2         Jonathan Cape,  160.0    3.33   \n",
       "\n",
       "         count_ratings  count_reviews  perc_5stars  perc_4stars  perc_3stars  \\\n",
       "2158059          10554           1026           19           39           33   \n",
       "2158060             12              3           33           41           16   \n",
       "2158061          40831           1388           55           25           14   \n",
       "2158062           3611            908           19           41           30   \n",
       "2158063              6              0            0           33           66   \n",
       "\n",
       "         perc_2stars  perc_1stars  count_books_author  count_followers_author  \\\n",
       "2158059            5            1                88.0                   814.0   \n",
       "2158060            8            0                45.0                     2.0   \n",
       "2158061            3            1                41.0                   193.0   \n",
       "2158062            7            1                 9.0                  1457.0   \n",
       "2158063            0            0                10.0                     1.0   \n",
       "\n",
       "         awards  publicationyear  \\\n",
       "2158059       0           2015.0   \n",
       "2158060       0           2011.0   \n",
       "2158061       1           1942.0   \n",
       "2158062       0           2022.0   \n",
       "2158063       0           2001.0   \n",
       "\n",
       "                                                    genres  \\\n",
       "2158059  ['Mystery', 'Historical Fiction', 'Fiction', '...   \n",
       "2158060                                     ['Nonfiction']   \n",
       "2158061  ['Picture Books', 'Childrens', 'Fiction', 'Cla...   \n",
       "2158062  ['LGBT', 'Romance', 'Young Adult', 'Contempora...   \n",
       "2158063           ['Mayne Roger', ' Photography Artistic']   \n",
       "\n",
       "                     creator  \n",
       "2158059          Carola Dunn  \n",
       "2158060         Roger Holmes  \n",
       "2158061  Virginia Lee Burton  \n",
       "2158062         Adib Khorram  \n",
       "2158063          Roger Mayne  "
      ]
     },
     "execution_count": 44,
     "metadata": {},
     "output_type": "execute_result"
    }
   ],
   "source": [
    "X_test.tail()"
   ]
  },
  {
   "cell_type": "code",
   "execution_count": 45,
   "metadata": {},
   "outputs": [
    {
     "name": "stdout",
     "output_type": "stream",
     "text": [
      "(1543023, 18) (385756, 18)\n"
     ]
    }
   ],
   "source": [
    "print(X_train.shape, X_test.shape)"
   ]
  },
  {
   "attachments": {},
   "cell_type": "markdown",
   "metadata": {},
   "source": [
    "Scalen en ecoding"
   ]
  },
  {
   "cell_type": "code",
   "execution_count": 30,
   "metadata": {},
   "outputs": [],
   "source": [
    "num_X_train=X_train.drop(['publisher', 'genres', 'creator'], axis=1)\n",
    "num_X_test=X_test.drop(['publisher', 'genres', 'creator'], axis=1)\n",
    "num_X_pred=dfPred.drop(['publisher', 'genres', 'creator'], axis=1)\n",
    "cat_X_train = X_train[['publisher', 'genres', 'creator']]\n",
    "cat_X_test = X_test[['publisher', 'genres', 'creator']]\n",
    "cat_X_pred = dfPred[['publisher', 'genres', 'creator']]\n",
    "\n",
    "scaler = StandardScaler()\n",
    "scaler.fit(num_X_train)\n",
    "X_train_scaled = pd.DataFrame(scaler.transform(num_X_train), columns=num_X_train.columns)\n",
    "X_test_scaled = pd.DataFrame(scaler.transform(num_X_test), columns=num_X_test.columns)\n",
    "X_pred_scaled = pd.DataFrame(scaler.transform(num_X_pred), columns=num_X_pred.columns)"
   ]
  },
  {
   "cell_type": "code",
   "execution_count": 31,
   "metadata": {},
   "outputs": [],
   "source": [
    "cat_X_train=cat_X_train.reset_index().drop(['index'], axis=1)\n",
    "cat_X_test=cat_X_test.reset_index().drop(['index'], axis=1)\n",
    "cat_X_pred=cat_X_pred.reset_index().drop(['index'], axis=1)\n",
    "\n",
    "X_train_scaled=X_train_scaled.merge(cat_X_train, left_index=True, right_index=True)\n",
    "X_test_scaled=X_test_scaled.merge(cat_X_test, left_index=True, right_index=True)\n",
    "X_pred_scaled=X_pred_scaled.merge(cat_X_pred, left_index=True, right_index=True)"
   ]
  },
  {
   "attachments": {},
   "cell_type": "markdown",
   "metadata": {},
   "source": [
    "2 soorten encoders"
   ]
  },
  {
   "cell_type": "code",
   "execution_count": 32,
   "metadata": {},
   "outputs": [],
   "source": [
    "from category_encoders import LeaveOneOutEncoder, TargetEncoder, HashingEncoder\n",
    "y_train=y_train.reset_index().drop(['index'], axis=1)\n",
    "y_test=y_test.reset_index().drop(['index'], axis=1)\n",
    "\n",
    "# enc = TargetEncoder(cols=['publisher', 'genres', 'creator'])\n",
    "enc = LeaveOneOutEncoder(cols=['publisher', 'genres', 'creator'])\n",
    "X_train_scaled = enc.fit_transform(X_train_scaled, y_train)\n",
    "X_test_scaled = enc.transform(X_test_scaled, y_test)\n",
    "X_pred_scaled = enc.transform(X_pred_scaled)"
   ]
  },
  {
   "attachments": {},
   "cell_type": "markdown",
   "metadata": {},
   "source": [
    "Modellen opstellen"
   ]
  },
  {
   "cell_type": "code",
   "execution_count": 49,
   "metadata": {},
   "outputs": [
    {
     "name": "stdout",
     "output_type": "stream",
     "text": [
      "LinearRegression done.\n",
      "     R²=0.09632468706238284\n",
      "     RMSE=1.0462922468255735\n",
      "     MAPE=0.5016931982085631\n",
      "     MAE=0.7699304909499832\n",
      "Ridge done.\n",
      "     R²=0.09632503434149842\n",
      "     RMSE=1.0462920457824136\n",
      "     MAPE=0.5016931801495336\n",
      "     MAE=0.769930447011417\n",
      "DecisionTreeRegressor done.\n",
      "     R²=0.395370154558642\n",
      "     RMSE=0.8558380449551347\n",
      "     MAPE=0.20464736776615272\n",
      "     MAE=0.35017688210509584\n"
     ]
    },
    {
     "name": "stderr",
     "output_type": "stream",
     "text": [
      "c:\\Users\\jenni\\AppData\\Local\\Programs\\Python\\Python310\\lib\\site-packages\\sklearn\\ensemble\\_gb.py:494: DataConversionWarning: A column-vector y was passed when a 1d array was expected. Please change the shape of y to (n_samples, ), for example using ravel().\n",
      "  y = column_or_1d(y, warn=True)\n"
     ]
    },
    {
     "name": "stdout",
     "output_type": "stream",
     "text": [
      "GradientBoostingRegressor done.\n",
      "     R²=0.21380720598576886\n",
      "     RMSE=0.9759135040290828\n",
      "     MAPE=0.4849052164555111\n",
      "     MAE=0.7282080148509229\n",
      "XGBRegressor done.\n",
      "     R²=0.47276289190087895\n",
      "     RMSE=0.7991895245358743\n",
      "     MAPE=0.37811957993890083\n",
      "     MAE=0.5665584350606953\n"
     ]
    }
   ],
   "source": [
    "models = [LinearRegression(),\n",
    "          # Lasso(random_state=42),\n",
    "        #   KNeighborsRegressor(),\n",
    "          Ridge(alpha=1, solver=\"auto\", random_state=42),\n",
    "        #   SGDRegressor(random_state=42),\n",
    "          DecisionTreeRegressor(random_state=42),\n",
    "          # RandomForestRegressor(random_state = 42),\n",
    "          GradientBoostingRegressor(random_state = 42),\n",
    "          XGBRegressor()]\n",
    "\n",
    "results = {}\n",
    "\n",
    "for model in models:\n",
    "    \n",
    "    # Instantiate and fit Regressor Model\n",
    "    reg_model = model\n",
    "    reg_model.fit(X_train_scaled, y_train)\n",
    "    \n",
    "    # Make predictions with model\n",
    "    y_pred = reg_model.predict(X_test_scaled)\n",
    "    \n",
    "    # Grab model name and store results associated with model\n",
    "    name = str(model).split(\"(\")[0]\n",
    "\n",
    "    results[name] = r2_score(y_test, y_pred)\n",
    "    print('{} done.'.format(name))\n",
    "    print('     R²={}'.format(r2_score(y_test, y_pred)))\n",
    "    print('     RMSE={}'.format(mean_squared_error(y_test, y_pred, squared=False)))\n",
    "    print('     MAPE={}'.format(mean_absolute_percentage_error(y_test, y_pred)))\n",
    "    print('     MAE={}'.format(mean_absolute_error(y_test, y_pred)))"
   ]
  },
  {
   "cell_type": "code",
   "execution_count": 15,
   "metadata": {},
   "outputs": [
    {
     "name": "stdout",
     "output_type": "stream",
     "text": [
      "{'LinearRegression': 0.3893886576233838, 'Ridge': 0.38938862497401505, 'GradientBoostingRegressor': 0.6529072432438681, 'XGBRegressor': 0.6579041985074638}\n"
     ]
    }
   ],
   "source": [
    "print(results)"
   ]
  },
  {
   "attachments": {},
   "cell_type": "markdown",
   "metadata": {},
   "source": [
    "testen"
   ]
  },
  {
   "cell_type": "code",
   "execution_count": 33,
   "metadata": {},
   "outputs": [],
   "source": [
    "best=XGBRegressor()\n",
    "best.fit(X_train_scaled, y_train)\n",
    "y_pred = best.predict(X_test_scaled)\n",
    "y_pred_train = best.predict(X_train_scaled)\n",
    "y_pred_pred = best.predict(X_pred_scaled)"
   ]
  },
  {
   "cell_type": "code",
   "execution_count": 34,
   "metadata": {},
   "outputs": [
    {
     "data": {
      "text/plain": [
       "array([1.3433365], dtype=float32)"
      ]
     },
     "execution_count": 34,
     "metadata": {},
     "output_type": "execute_result"
    }
   ],
   "source": [
    "y_pred_pred"
   ]
  },
  {
   "cell_type": "code",
   "execution_count": 21,
   "metadata": {},
   "outputs": [
    {
     "name": "stdout",
     "output_type": "stream",
     "text": [
      "[1. 2. 2. 1. 1. 2. 3. 1. 3. 2.]\n",
      "    checkouts\n",
      "50          1\n",
      "51          2\n",
      "52          3\n",
      "53          1\n",
      "54          1\n",
      "55          1\n",
      "56          4\n",
      "57          1\n",
      "58          5\n",
      "59          3\n"
     ]
    }
   ],
   "source": [
    "print(np.round((y_pred[50:60])))\n",
    "print(y_test.iloc[50:60])"
   ]
  },
  {
   "cell_type": "code",
   "execution_count": 11,
   "metadata": {},
   "outputs": [
    {
     "name": "stdout",
     "output_type": "stream",
     "text": [
      "     RMSE train=0.9303026927249671\n",
      "     RMSE test=0.9689077351295626\n"
     ]
    }
   ],
   "source": [
    "print('     RMSE train={}'.format(mean_squared_error(y_train, y_pred_train, squared=False)))\n",
    "print('     RMSE test={}'.format(mean_squared_error(y_test, y_pred, squared=False)))"
   ]
  },
  {
   "cell_type": "code",
   "execution_count": 17,
   "metadata": {},
   "outputs": [
    {
     "name": "stdout",
     "output_type": "stream",
     "text": [
      "     RMSE train=0.7254306492240182\n",
      "     RMSE test=0.7991895245358743\n"
     ]
    }
   ],
   "source": [
    "print('     RMSE train={}'.format(mean_squared_error(y_train, y_pred_train, squared=False)))\n",
    "print('     RMSE test={}'.format(mean_squared_error(y_test, y_pred, squared=False)))"
   ]
  },
  {
   "cell_type": "code",
   "execution_count": 19,
   "metadata": {},
   "outputs": [
    {
     "name": "stdout",
     "output_type": "stream",
     "text": [
      "     R²=0.6529072432438681\n",
      "     RMSE=4.54476644281218\n",
      "     MAE=1.3730842863498243\n"
     ]
    }
   ],
   "source": [
    "# y_pred=np.round(y_pred)\n",
    "print('     R²={}'.format(r2_score(y_test, y_pred)))\n",
    "print('     RMSE={}'.format(mean_squared_error(y_test, y_pred, squared=False)))\n",
    "print('     MAE={}'.format(mean_absolute_error(y_test, y_pred)))"
   ]
  },
  {
   "cell_type": "code",
   "execution_count": 35,
   "metadata": {},
   "outputs": [
    {
     "data": {
      "text/html": [
       "<div>\n",
       "<style scoped>\n",
       "    .dataframe tbody tr th:only-of-type {\n",
       "        vertical-align: middle;\n",
       "    }\n",
       "\n",
       "    .dataframe tbody tr th {\n",
       "        vertical-align: top;\n",
       "    }\n",
       "\n",
       "    .dataframe thead th {\n",
       "        text-align: right;\n",
       "    }\n",
       "</style>\n",
       "<table border=\"1\" class=\"dataframe\">\n",
       "  <thead>\n",
       "    <tr style=\"text-align: right;\">\n",
       "      <th></th>\n",
       "      <th>importance</th>\n",
       "    </tr>\n",
       "  </thead>\n",
       "  <tbody>\n",
       "    <tr>\n",
       "      <th>genres</th>\n",
       "      <td>0.364178</td>\n",
       "    </tr>\n",
       "    <tr>\n",
       "      <th>publisher</th>\n",
       "      <td>0.125945</td>\n",
       "    </tr>\n",
       "    <tr>\n",
       "      <th>checkoutyear</th>\n",
       "      <td>0.106372</td>\n",
       "    </tr>\n",
       "    <tr>\n",
       "      <th>checkoutmonth</th>\n",
       "      <td>0.098607</td>\n",
       "    </tr>\n",
       "    <tr>\n",
       "      <th>creator</th>\n",
       "      <td>0.062906</td>\n",
       "    </tr>\n",
       "    <tr>\n",
       "      <th>publicationyear</th>\n",
       "      <td>0.060833</td>\n",
       "    </tr>\n",
       "    <tr>\n",
       "      <th>count_reviews</th>\n",
       "      <td>0.033958</td>\n",
       "    </tr>\n",
       "    <tr>\n",
       "      <th>count_books_author</th>\n",
       "      <td>0.023728</td>\n",
       "    </tr>\n",
       "    <tr>\n",
       "      <th>count_ratings</th>\n",
       "      <td>0.022560</td>\n",
       "    </tr>\n",
       "    <tr>\n",
       "      <th>count_followers_author</th>\n",
       "      <td>0.020771</td>\n",
       "    </tr>\n",
       "    <tr>\n",
       "      <th>perc_5stars</th>\n",
       "      <td>0.017378</td>\n",
       "    </tr>\n",
       "    <tr>\n",
       "      <th>pages</th>\n",
       "      <td>0.017172</td>\n",
       "    </tr>\n",
       "    <tr>\n",
       "      <th>awards</th>\n",
       "      <td>0.010174</td>\n",
       "    </tr>\n",
       "    <tr>\n",
       "      <th>perc_4stars</th>\n",
       "      <td>0.009703</td>\n",
       "    </tr>\n",
       "    <tr>\n",
       "      <th>rating</th>\n",
       "      <td>0.006942</td>\n",
       "    </tr>\n",
       "    <tr>\n",
       "      <th>perc_3stars</th>\n",
       "      <td>0.006450</td>\n",
       "    </tr>\n",
       "    <tr>\n",
       "      <th>perc_1stars</th>\n",
       "      <td>0.006371</td>\n",
       "    </tr>\n",
       "    <tr>\n",
       "      <th>perc_2stars</th>\n",
       "      <td>0.005952</td>\n",
       "    </tr>\n",
       "  </tbody>\n",
       "</table>\n",
       "</div>"
      ],
      "text/plain": [
       "                        importance\n",
       "genres                    0.364178\n",
       "publisher                 0.125945\n",
       "checkoutyear              0.106372\n",
       "checkoutmonth             0.098607\n",
       "creator                   0.062906\n",
       "publicationyear           0.060833\n",
       "count_reviews             0.033958\n",
       "count_books_author        0.023728\n",
       "count_ratings             0.022560\n",
       "count_followers_author    0.020771\n",
       "perc_5stars               0.017378\n",
       "pages                     0.017172\n",
       "awards                    0.010174\n",
       "perc_4stars               0.009703\n",
       "rating                    0.006942\n",
       "perc_3stars               0.006450\n",
       "perc_1stars               0.006371\n",
       "perc_2stars               0.005952"
      ]
     },
     "execution_count": 35,
     "metadata": {},
     "output_type": "execute_result"
    }
   ],
   "source": [
    "feature_imp = pd.DataFrame(best.feature_importances_,\n",
    "                                   index = X_train_scaled.columns,\n",
    "                                   columns=['importance']).sort_values('importance', ascending=False)\n",
    "\n",
    "feature_imp.head(20)"
   ]
  }
 ],
 "metadata": {
  "kernelspec": {
   "display_name": "Python 3",
   "language": "python",
   "name": "python3"
  },
  "language_info": {
   "codemirror_mode": {
    "name": "ipython",
    "version": 3
   },
   "file_extension": ".py",
   "mimetype": "text/x-python",
   "name": "python",
   "nbconvert_exporter": "python",
   "pygments_lexer": "ipython3",
   "version": "3.10.4"
  },
  "orig_nbformat": 4
 },
 "nbformat": 4,
 "nbformat_minor": 2
}
