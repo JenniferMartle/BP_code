{
 "cells": [
  {
   "cell_type": "code",
   "execution_count": 1,
   "metadata": {},
   "outputs": [],
   "source": [
    "import pandas as pd\n",
    "import numpy as np\n",
    "import datetime as dt"
   ]
  },
  {
   "cell_type": "code",
   "execution_count": 2,
   "metadata": {},
   "outputs": [],
   "source": [
    "pd.set_option('display.max_columns', None)\n",
    "pd.set_option('display.max_rows', None)\n",
    "pd.options.display.float_format = '{:.2f}'.format"
   ]
  },
  {
   "cell_type": "code",
   "execution_count": 17,
   "metadata": {},
   "outputs": [],
   "source": [
    "df=pd.read_csv('SPL_compleet2.csv', low_memory=False)"
   ]
  },
  {
   "cell_type": "code",
   "execution_count": 18,
   "metadata": {},
   "outputs": [],
   "source": [
    "df.drop(['Unnamed: 0', 'publisher'], axis=1, inplace=True)"
   ]
  },
  {
   "cell_type": "code",
   "execution_count": 19,
   "metadata": {},
   "outputs": [],
   "source": [
    "df.insert(0, 'usageclass', 'Physical')\n",
    "df.insert(1, 'checkouttype', 'Horizon')\n",
    "df.insert(2, 'materialtype', 'BOOK')"
   ]
  },
  {
   "cell_type": "code",
   "execution_count": 20,
   "metadata": {},
   "outputs": [
    {
     "name": "stdout",
     "output_type": "stream",
     "text": [
      "<class 'pandas.core.frame.DataFrame'>\n",
      "RangeIndex: 2158151 entries, 0 to 2158150\n",
      "Data columns (total 27 columns):\n",
      " #   Column                  Dtype  \n",
      "---  ------                  -----  \n",
      " 0   usageclass              object \n",
      " 1   checkouttype            object \n",
      " 2   materialtype            object \n",
      " 3   checkoutyear            int64  \n",
      " 4   checkoutmonth           int64  \n",
      " 5   checkouts               int64  \n",
      " 6   title                   object \n",
      " 7   creator                 object \n",
      " 8   subjects                object \n",
      " 9   publisher_x             object \n",
      " 10  publicationyear         object \n",
      " 11  pages                   object \n",
      " 12  rating                  float64\n",
      " 13  count_ratings           object \n",
      " 14  count_reviews           object \n",
      " 15  genres                  object \n",
      " 16  perc_5stars             object \n",
      " 17  perc_4stars             object \n",
      " 18  perc_3stars             object \n",
      " 19  perc_2stars             object \n",
      " 20  perc_1stars             object \n",
      " 21  count_books_author      object \n",
      " 22  count_followers_author  object \n",
      " 23  author                  object \n",
      " 24  awards                  object \n",
      " 25  pub_year                object \n",
      " 26  publisher_y             object \n",
      "dtypes: float64(1), int64(3), object(23)\n",
      "memory usage: 444.6+ MB\n"
     ]
    }
   ],
   "source": [
    "df.info()"
   ]
  },
  {
   "cell_type": "code",
   "execution_count": 21,
   "metadata": {},
   "outputs": [
    {
     "data": {
      "text/html": [
       "<div>\n",
       "<style scoped>\n",
       "    .dataframe tbody tr th:only-of-type {\n",
       "        vertical-align: middle;\n",
       "    }\n",
       "\n",
       "    .dataframe tbody tr th {\n",
       "        vertical-align: top;\n",
       "    }\n",
       "\n",
       "    .dataframe thead th {\n",
       "        text-align: right;\n",
       "    }\n",
       "</style>\n",
       "<table border=\"1\" class=\"dataframe\">\n",
       "  <thead>\n",
       "    <tr style=\"text-align: right;\">\n",
       "      <th></th>\n",
       "      <th>usageclass</th>\n",
       "      <th>checkouttype</th>\n",
       "      <th>materialtype</th>\n",
       "      <th>checkoutyear</th>\n",
       "      <th>checkoutmonth</th>\n",
       "      <th>checkouts</th>\n",
       "      <th>title</th>\n",
       "      <th>creator</th>\n",
       "      <th>subjects</th>\n",
       "      <th>publisher_x</th>\n",
       "      <th>publicationyear</th>\n",
       "      <th>pages</th>\n",
       "      <th>rating</th>\n",
       "      <th>count_ratings</th>\n",
       "      <th>count_reviews</th>\n",
       "      <th>genres</th>\n",
       "      <th>perc_5stars</th>\n",
       "      <th>perc_4stars</th>\n",
       "      <th>perc_3stars</th>\n",
       "      <th>perc_2stars</th>\n",
       "      <th>perc_1stars</th>\n",
       "      <th>count_books_author</th>\n",
       "      <th>count_followers_author</th>\n",
       "      <th>author</th>\n",
       "      <th>awards</th>\n",
       "      <th>pub_year</th>\n",
       "      <th>publisher_y</th>\n",
       "    </tr>\n",
       "  </thead>\n",
       "  <tbody>\n",
       "    <tr>\n",
       "      <th>9000</th>\n",
       "      <td>Physical</td>\n",
       "      <td>Horizon</td>\n",
       "      <td>BOOK</td>\n",
       "      <td>2020</td>\n",
       "      <td>2</td>\n",
       "      <td>1</td>\n",
       "      <td>Saveur Italian comfort food / the editors of S...</td>\n",
       "      <td>NaN</td>\n",
       "      <td>Cooking Italian, Comfort food, Cookbooks</td>\n",
       "      <td>Weldon Owen Inc.,</td>\n",
       "      <td>[2015]</td>\n",
       "      <td>224 pages, Hardcover</td>\n",
       "      <td>3.90</td>\n",
       "      <td>39</td>\n",
       "      <td>1</td>\n",
       "      <td>Genres,Cooking,Cookbooks,Food,Nonfiction</td>\n",
       "      <td>14 (35%)</td>\n",
       "      <td>14 (35%)</td>\n",
       "      <td>5 (12%)</td>\n",
       "      <td>5 (12%)</td>\n",
       "      <td>1 (2%)</td>\n",
       "      <td>20</td>\n",
       "      <td>9</td>\n",
       "      <td>Saveur Magazine</td>\n",
       "      <td>\":[</td>\n",
       "      <td>First published October 27, 2015</td>\n",
       "      <td>\":\"Weldon Owen\"</td>\n",
       "    </tr>\n",
       "    <tr>\n",
       "      <th>9001</th>\n",
       "      <td>Physical</td>\n",
       "      <td>Horizon</td>\n",
       "      <td>BOOK</td>\n",
       "      <td>2020</td>\n",
       "      <td>2</td>\n",
       "      <td>2</td>\n",
       "      <td>Flourishing : why we need religion in a global...</td>\n",
       "      <td>Volf, Miroslav</td>\n",
       "      <td>Globalization Religious aspects, Religion and ...</td>\n",
       "      <td>Yale University Press,</td>\n",
       "      <td>c2015.</td>\n",
       "      <td>304 pages, Hardcover</td>\n",
       "      <td>3.98</td>\n",
       "      <td>174</td>\n",
       "      <td>32</td>\n",
       "      <td>Genres,Religion,Theology,Nonfiction,Christiani...</td>\n",
       "      <td>56 (32%)</td>\n",
       "      <td>69 (39%)</td>\n",
       "      <td>41 (23%)</td>\n",
       "      <td>5 (2%)</td>\n",
       "      <td>3 (1%)</td>\n",
       "      <td>62</td>\n",
       "      <td>252</td>\n",
       "      <td>Miroslav Volf</td>\n",
       "      <td>\":[</td>\n",
       "      <td>First published January 12, 2016</td>\n",
       "      <td>\":\"Yale University Press\"</td>\n",
       "    </tr>\n",
       "    <tr>\n",
       "      <th>9002</th>\n",
       "      <td>Physical</td>\n",
       "      <td>Horizon</td>\n",
       "      <td>BOOK</td>\n",
       "      <td>2020</td>\n",
       "      <td>2</td>\n",
       "      <td>2</td>\n",
       "      <td>Caught / Margaret Peterson Haddix.</td>\n",
       "      <td>Haddix, Margaret Peterson</td>\n",
       "      <td>Einstein Maric Mileva 1875 1948 Juvenile ficti...</td>\n",
       "      <td>Simon &amp; Schuster Books for Young Readers,</td>\n",
       "      <td>2012 London Toronto Sydney.</td>\n",
       "      <td>352 pages, Hardcover</td>\n",
       "      <td>4.22</td>\n",
       "      <td>6,489</td>\n",
       "      <td>444</td>\n",
       "      <td>Genres,Science Fiction,Time Travel,Historical ...</td>\n",
       "      <td>2,871 (44%)</td>\n",
       "      <td>2,385 (36%)</td>\n",
       "      <td>1,032 (15%)</td>\n",
       "      <td>162 (2%)</td>\n",
       "      <td>39 (&lt;1%)</td>\n",
       "      <td>87</td>\n",
       "      <td>5,849</td>\n",
       "      <td>Margaret Peterson Haddix</td>\n",
       "      <td>\":[</td>\n",
       "      <td>First published September 1, 2012</td>\n",
       "      <td>\":\"Simon \\u0026 Schuster\"</td>\n",
       "    </tr>\n",
       "  </tbody>\n",
       "</table>\n",
       "</div>"
      ],
      "text/plain": [
       "     usageclass checkouttype materialtype  checkoutyear  checkoutmonth  \\\n",
       "9000   Physical      Horizon         BOOK          2020              2   \n",
       "9001   Physical      Horizon         BOOK          2020              2   \n",
       "9002   Physical      Horizon         BOOK          2020              2   \n",
       "\n",
       "      checkouts                                              title  \\\n",
       "9000          1  Saveur Italian comfort food / the editors of S...   \n",
       "9001          2  Flourishing : why we need religion in a global...   \n",
       "9002          2                 Caught / Margaret Peterson Haddix.   \n",
       "\n",
       "                        creator  \\\n",
       "9000                        NaN   \n",
       "9001             Volf, Miroslav   \n",
       "9002  Haddix, Margaret Peterson   \n",
       "\n",
       "                                               subjects  \\\n",
       "9000           Cooking Italian, Comfort food, Cookbooks   \n",
       "9001  Globalization Religious aspects, Religion and ...   \n",
       "9002  Einstein Maric Mileva 1875 1948 Juvenile ficti...   \n",
       "\n",
       "                                    publisher_x              publicationyear  \\\n",
       "9000                          Weldon Owen Inc.,                       [2015]   \n",
       "9001                     Yale University Press,                       c2015.   \n",
       "9002  Simon & Schuster Books for Young Readers,  2012 London Toronto Sydney.   \n",
       "\n",
       "                     pages  rating count_ratings count_reviews  \\\n",
       "9000  224 pages, Hardcover    3.90            39             1   \n",
       "9001  304 pages, Hardcover    3.98           174            32   \n",
       "9002  352 pages, Hardcover    4.22         6,489           444   \n",
       "\n",
       "                                                 genres  perc_5stars  \\\n",
       "9000           Genres,Cooking,Cookbooks,Food,Nonfiction     14 (35%)   \n",
       "9001  Genres,Religion,Theology,Nonfiction,Christiani...     56 (32%)   \n",
       "9002  Genres,Science Fiction,Time Travel,Historical ...  2,871 (44%)   \n",
       "\n",
       "      perc_4stars  perc_3stars perc_2stars perc_1stars count_books_author  \\\n",
       "9000     14 (35%)      5 (12%)     5 (12%)      1 (2%)                 20   \n",
       "9001     69 (39%)     41 (23%)      5 (2%)      3 (1%)                 62   \n",
       "9002  2,385 (36%)  1,032 (15%)    162 (2%)    39 (<1%)                 87   \n",
       "\n",
       "     count_followers_author                    author awards  \\\n",
       "9000                      9           Saveur Magazine    \":[   \n",
       "9001                    252             Miroslav Volf    \":[   \n",
       "9002                  5,849  Margaret Peterson Haddix    \":[   \n",
       "\n",
       "                               pub_year                publisher_y  \n",
       "9000   First published October 27, 2015            \":\"Weldon Owen\"  \n",
       "9001   First published January 12, 2016  \":\"Yale University Press\"  \n",
       "9002  First published September 1, 2012  \":\"Simon \\u0026 Schuster\"  "
      ]
     },
     "execution_count": 21,
     "metadata": {},
     "output_type": "execute_result"
    }
   ],
   "source": [
    "df[9000:9003]"
   ]
  },
  {
   "attachments": {},
   "cell_type": "markdown",
   "metadata": {},
   "source": [
    "#### RATING"
   ]
  },
  {
   "cell_type": "code",
   "execution_count": 11,
   "metadata": {},
   "outputs": [
    {
     "data": {
      "text/plain": [
       "count   2158151.00\n",
       "mean          3.92\n",
       "std           0.59\n",
       "min           0.00\n",
       "25%           3.76\n",
       "50%           4.00\n",
       "75%           4.21\n",
       "max           5.00\n",
       "Name: rating, dtype: float64"
      ]
     },
     "execution_count": 11,
     "metadata": {},
     "output_type": "execute_result"
    }
   ],
   "source": [
    "df['rating'].describe()"
   ]
  },
  {
   "cell_type": "code",
   "execution_count": 12,
   "metadata": {},
   "outputs": [],
   "source": [
    "df['rating']=df['rating'].mask(df['rating']==0).fillna(df['rating'].mean())"
   ]
  },
  {
   "attachments": {},
   "cell_type": "markdown",
   "metadata": {},
   "source": [
    "#### PAGES"
   ]
  },
  {
   "cell_type": "code",
   "execution_count": 13,
   "metadata": {},
   "outputs": [
    {
     "data": {
      "text/plain": [
       "0     24 pages, Paperback\n",
       "1     40 pages, Hardcover\n",
       "2    293 pages, Hardcover\n",
       "3    330 pages, Hardcover\n",
       "4    324 pages, Hardcover\n",
       "Name: pages, dtype: object"
      ]
     },
     "execution_count": 13,
     "metadata": {},
     "output_type": "execute_result"
    }
   ],
   "source": [
    "df['pages'].head()"
   ]
  },
  {
   "cell_type": "code",
   "execution_count": 14,
   "metadata": {},
   "outputs": [],
   "source": [
    "df['pages']=df['pages'].fillna('0')"
   ]
  },
  {
   "cell_type": "code",
   "execution_count": 15,
   "metadata": {},
   "outputs": [],
   "source": [
    "df['pages']=df.apply(lambda r: r['pages'].split(' ')[0], 1)"
   ]
  },
  {
   "cell_type": "code",
   "execution_count": 16,
   "metadata": {},
   "outputs": [],
   "source": [
    "def is_numb(pages):\n",
    "    if pages.isdigit():\n",
    "        return pages\n",
    "    else:\n",
    "        return '0'\n",
    "\n",
    "df['pages']=df['pages'].apply(is_numb)"
   ]
  },
  {
   "cell_type": "code",
   "execution_count": 17,
   "metadata": {},
   "outputs": [],
   "source": [
    "df['pages']=df['pages'].astype(np.int32)"
   ]
  },
  {
   "cell_type": "code",
   "execution_count": 18,
   "metadata": {},
   "outputs": [],
   "source": [
    "df['pages']=df['pages'].mask(df['pages']==0).fillna(np.round(df['pages'].mean()))"
   ]
  },
  {
   "cell_type": "code",
   "execution_count": 19,
   "metadata": {},
   "outputs": [
    {
     "data": {
      "text/plain": [
       "count   2158151.00\n",
       "mean        224.25\n",
       "std         228.24\n",
       "min           1.00\n",
       "25%          80.00\n",
       "50%         219.00\n",
       "75%         320.00\n",
       "max       75000.00\n",
       "Name: pages, dtype: float64"
      ]
     },
     "execution_count": 19,
     "metadata": {},
     "output_type": "execute_result"
    }
   ],
   "source": [
    "df['pages'].describe()"
   ]
  },
  {
   "attachments": {},
   "cell_type": "markdown",
   "metadata": {},
   "source": [
    "#### COUNT_RATINGS"
   ]
  },
  {
   "cell_type": "code",
   "execution_count": 20,
   "metadata": {},
   "outputs": [],
   "source": [
    "df['count_ratings']=df['count_ratings'].fillna('0')"
   ]
  },
  {
   "cell_type": "code",
   "execution_count": 21,
   "metadata": {},
   "outputs": [],
   "source": [
    "df['count_ratings']=df.apply(lambda r: r['count_ratings'].replace(',', ''), 1)"
   ]
  },
  {
   "cell_type": "code",
   "execution_count": 22,
   "metadata": {},
   "outputs": [],
   "source": [
    "df['count_ratings']=df['count_ratings'].astype(np.int32)"
   ]
  },
  {
   "cell_type": "code",
   "execution_count": 23,
   "metadata": {},
   "outputs": [
    {
     "data": {
      "text/plain": [
       "count   2158151.00\n",
       "mean      18433.11\n",
       "std      163988.34\n",
       "min           0.00\n",
       "25%          76.00\n",
       "50%         396.00\n",
       "75%        2852.00\n",
       "max     9237267.00\n",
       "Name: count_ratings, dtype: float64"
      ]
     },
     "execution_count": 23,
     "metadata": {},
     "output_type": "execute_result"
    }
   ],
   "source": [
    "df['count_ratings'].describe()"
   ]
  },
  {
   "attachments": {},
   "cell_type": "markdown",
   "metadata": {},
   "source": [
    "#### COUNT_REVIEWS"
   ]
  },
  {
   "cell_type": "code",
   "execution_count": 24,
   "metadata": {},
   "outputs": [],
   "source": [
    "df['count_reviews']=df['count_reviews'].fillna('0')"
   ]
  },
  {
   "cell_type": "code",
   "execution_count": 25,
   "metadata": {},
   "outputs": [],
   "source": [
    "df['count_reviews']=df.apply(lambda r: r['count_reviews'].replace(',', ''), 1)"
   ]
  },
  {
   "cell_type": "code",
   "execution_count": 26,
   "metadata": {},
   "outputs": [],
   "source": [
    "df['count_reviews']=df['count_reviews'].astype(np.int32)"
   ]
  },
  {
   "cell_type": "code",
   "execution_count": 27,
   "metadata": {},
   "outputs": [
    {
     "data": {
      "text/plain": [
       "count   2158151.00\n",
       "mean       1108.98\n",
       "std        5969.76\n",
       "min           0.00\n",
       "25%          12.00\n",
       "50%          59.00\n",
       "75%         317.00\n",
       "max      202820.00\n",
       "Name: count_reviews, dtype: float64"
      ]
     },
     "execution_count": 27,
     "metadata": {},
     "output_type": "execute_result"
    }
   ],
   "source": [
    "df['count_reviews'].describe()"
   ]
  },
  {
   "attachments": {},
   "cell_type": "markdown",
   "metadata": {},
   "source": [
    "#### PERC_STARS"
   ]
  },
  {
   "cell_type": "code",
   "execution_count": 28,
   "metadata": {},
   "outputs": [],
   "source": [
    "def perc_stars(perc_stars):\n",
    "    perc_stars=perc_stars.split(' (')[1]\n",
    "    perc_stars=perc_stars.replace(')', '')\n",
    "    perc_stars=perc_stars.replace('%', '')\n",
    "    perc_stars=perc_stars.replace('<1', '1')\n",
    "    return perc_stars"
   ]
  },
  {
   "cell_type": "code",
   "execution_count": 29,
   "metadata": {},
   "outputs": [],
   "source": [
    "stars=['perc_1stars', 'perc_2stars', 'perc_3stars', 'perc_4stars', 'perc_5stars']\n",
    "\n",
    "for s in stars:\n",
    "    df[s]=df[s].fillna('0 (0%)')\n",
    "    df[s]=df[s].apply(perc_stars)\n",
    "    df[s]=df[s].astype(np.int64)"
   ]
  },
  {
   "cell_type": "code",
   "execution_count": 30,
   "metadata": {},
   "outputs": [
    {
     "data": {
      "text/plain": [
       "count   2158151.00\n",
       "mean         21.82\n",
       "std          11.95\n",
       "min           0.00\n",
       "25%          14.00\n",
       "50%          20.00\n",
       "75%          28.00\n",
       "max         100.00\n",
       "Name: perc_3stars, dtype: float64"
      ]
     },
     "execution_count": 30,
     "metadata": {},
     "output_type": "execute_result"
    }
   ],
   "source": [
    "df['perc_3stars'].describe()"
   ]
  },
  {
   "attachments": {},
   "cell_type": "markdown",
   "metadata": {},
   "source": [
    "#### COUNT_BOOKS_AUTHOR"
   ]
  },
  {
   "cell_type": "code",
   "execution_count": 31,
   "metadata": {},
   "outputs": [],
   "source": [
    "df['count_books_author'].fillna('0', inplace=True)"
   ]
  },
  {
   "cell_type": "code",
   "execution_count": 32,
   "metadata": {},
   "outputs": [],
   "source": [
    "def k_books(books):\n",
    "    if 'k' in books:\n",
    "        books=books.replace('k', '')\n",
    "        return books\n",
    "\n",
    "df['k_books']=df['count_books_author'].apply(k_books)"
   ]
  },
  {
   "cell_type": "code",
   "execution_count": 33,
   "metadata": {},
   "outputs": [],
   "source": [
    "df['k_books'].fillna('0', inplace=True)"
   ]
  },
  {
   "cell_type": "code",
   "execution_count": 34,
   "metadata": {},
   "outputs": [],
   "source": [
    "df['k_books']=df['k_books'].astype(np.float64)"
   ]
  },
  {
   "cell_type": "code",
   "execution_count": 35,
   "metadata": {},
   "outputs": [],
   "source": [
    "df['k_books']=df['k_books']*1000"
   ]
  },
  {
   "cell_type": "code",
   "execution_count": 36,
   "metadata": {},
   "outputs": [],
   "source": [
    "def k_books_2(books):\n",
    "    if 'k' in books:\n",
    "        return '0'\n",
    "    elif ',' in books:\n",
    "        books=books.replace(',', '')\n",
    "        return books\n",
    "    elif 'm' in books:\n",
    "        return '0'\n",
    "    else:\n",
    "        return books\n",
    "\n",
    "df['count_books_author']=df['count_books_author'].apply(k_books_2)"
   ]
  },
  {
   "cell_type": "code",
   "execution_count": 37,
   "metadata": {},
   "outputs": [],
   "source": [
    "df['count_books_author']=df['count_books_author'].astype(np.int32)"
   ]
  },
  {
   "cell_type": "code",
   "execution_count": 38,
   "metadata": {},
   "outputs": [],
   "source": [
    "df['count_books_author']=df['count_books_author']+df['k_books']"
   ]
  },
  {
   "cell_type": "code",
   "execution_count": 39,
   "metadata": {},
   "outputs": [],
   "source": [
    "df.drop('k_books', axis=1, inplace=True)"
   ]
  },
  {
   "cell_type": "code",
   "execution_count": 40,
   "metadata": {},
   "outputs": [
    {
     "data": {
      "text/plain": [
       "count   2158151.00\n",
       "mean        516.39\n",
       "std       13137.53\n",
       "min           0.00\n",
       "25%          10.00\n",
       "50%          35.00\n",
       "75%         113.00\n",
       "max      726000.00\n",
       "Name: count_books_author, dtype: float64"
      ]
     },
     "execution_count": 40,
     "metadata": {},
     "output_type": "execute_result"
    }
   ],
   "source": [
    "df['count_books_author'].describe()"
   ]
  },
  {
   "cell_type": "markdown",
   "metadata": {},
   "source": [
    "#### COUNT_FOLLOWERS_AUTHOR"
   ]
  },
  {
   "cell_type": "code",
   "execution_count": 41,
   "metadata": {},
   "outputs": [],
   "source": [
    "df['count_followers_author'].fillna('0', inplace=True)"
   ]
  },
  {
   "cell_type": "code",
   "execution_count": 42,
   "metadata": {},
   "outputs": [],
   "source": [
    "df['k_follows']=df['count_followers_author'].apply(k_books)"
   ]
  },
  {
   "cell_type": "code",
   "execution_count": 43,
   "metadata": {},
   "outputs": [],
   "source": [
    "df['k_follows'].fillna('0', inplace=True)"
   ]
  },
  {
   "cell_type": "code",
   "execution_count": 44,
   "metadata": {},
   "outputs": [],
   "source": [
    "df['k_follows']=df['k_follows'].astype(np.float32)"
   ]
  },
  {
   "cell_type": "code",
   "execution_count": 45,
   "metadata": {},
   "outputs": [],
   "source": [
    "df['k_follows']=df['k_follows']*1000"
   ]
  },
  {
   "cell_type": "code",
   "execution_count": 46,
   "metadata": {},
   "outputs": [],
   "source": [
    "df['count_followers_author']=df['count_followers_author'].apply(k_books_2)"
   ]
  },
  {
   "cell_type": "code",
   "execution_count": 47,
   "metadata": {},
   "outputs": [],
   "source": [
    "df['count_followers_author']=df['count_followers_author'].astype(np.int32)"
   ]
  },
  {
   "cell_type": "code",
   "execution_count": 48,
   "metadata": {},
   "outputs": [],
   "source": [
    "df['count_followers_author']=df['count_followers_author']+df['k_follows']"
   ]
  },
  {
   "cell_type": "code",
   "execution_count": 49,
   "metadata": {},
   "outputs": [],
   "source": [
    "df.drop('k_follows', axis=1, inplace=True)"
   ]
  },
  {
   "cell_type": "code",
   "execution_count": 50,
   "metadata": {},
   "outputs": [
    {
     "data": {
      "text/plain": [
       "count   2158151.00\n",
       "mean       4634.25\n",
       "std       33494.22\n",
       "min           0.00\n",
       "25%          10.00\n",
       "50%          83.00\n",
       "75%         774.00\n",
       "max      815000.00\n",
       "Name: count_followers_author, dtype: float64"
      ]
     },
     "execution_count": 50,
     "metadata": {},
     "output_type": "execute_result"
    }
   ],
   "source": [
    "df['count_followers_author'].describe()"
   ]
  },
  {
   "attachments": {},
   "cell_type": "markdown",
   "metadata": {},
   "source": [
    "#### AWARDS"
   ]
  },
  {
   "cell_type": "code",
   "execution_count": 51,
   "metadata": {},
   "outputs": [],
   "source": [
    "df['awards'].fillna('\":[', inplace=True)"
   ]
  },
  {
   "cell_type": "code",
   "execution_count": 52,
   "metadata": {},
   "outputs": [],
   "source": [
    "df['awards']=df['awards'].mask(df['awards']=='\":[').fillna('0')"
   ]
  },
  {
   "cell_type": "code",
   "execution_count": 53,
   "metadata": {},
   "outputs": [],
   "source": [
    "def count_awards(awards):\n",
    "    if len(awards)>1:\n",
    "        awards=awards.replace('\":[', '')\n",
    "        awards=awards.split('{\"__typename\":')\n",
    "        awards=len(awards)-1\n",
    "    return awards\n",
    "\n",
    "df['awards']=df['awards'].apply(count_awards)"
   ]
  },
  {
   "cell_type": "code",
   "execution_count": 54,
   "metadata": {},
   "outputs": [],
   "source": [
    "df['awards']=df['awards'].astype(np.int32)"
   ]
  },
  {
   "cell_type": "code",
   "execution_count": 55,
   "metadata": {},
   "outputs": [
    {
     "data": {
      "text/plain": [
       "count   2158151.00\n",
       "mean          0.37\n",
       "std           1.29\n",
       "min           0.00\n",
       "25%           0.00\n",
       "50%           0.00\n",
       "75%           0.00\n",
       "max          41.00\n",
       "Name: awards, dtype: float64"
      ]
     },
     "execution_count": 55,
     "metadata": {},
     "output_type": "execute_result"
    }
   ],
   "source": [
    "df['awards'].describe()"
   ]
  },
  {
   "attachments": {},
   "cell_type": "markdown",
   "metadata": {},
   "source": [
    "#### PUB_YEAR"
   ]
  },
  {
   "cell_type": "code",
   "execution_count": 56,
   "metadata": {},
   "outputs": [],
   "source": [
    "dfYear=df[['publicationyear', 'pub_year']]"
   ]
  },
  {
   "cell_type": "code",
   "execution_count": 57,
   "metadata": {},
   "outputs": [],
   "source": [
    "df.drop(['publicationyear', 'pub_year'], axis=1, inplace=True)"
   ]
  },
  {
   "cell_type": "code",
   "execution_count": 58,
   "metadata": {},
   "outputs": [
    {
     "name": "stderr",
     "output_type": "stream",
     "text": [
      "C:\\Users\\jenni\\AppData\\Local\\Temp\\ipykernel_12028\\488081266.py:1: SettingWithCopyWarning: \n",
      "A value is trying to be set on a copy of a slice from a DataFrame\n",
      "\n",
      "See the caveats in the documentation: https://pandas.pydata.org/pandas-docs/stable/user_guide/indexing.html#returning-a-view-versus-a-copy\n",
      "  dfYear['pub_year'].fillna(', 0', inplace=True)\n"
     ]
    }
   ],
   "source": [
    "dfYear['pub_year'].fillna(', 0', inplace=True)"
   ]
  },
  {
   "cell_type": "code",
   "execution_count": 59,
   "metadata": {},
   "outputs": [
    {
     "name": "stderr",
     "output_type": "stream",
     "text": [
      "C:\\Users\\jenni\\AppData\\Local\\Temp\\ipykernel_12028\\106055534.py:1: SettingWithCopyWarning: \n",
      "A value is trying to be set on a copy of a slice from a DataFrame.\n",
      "Try using .loc[row_indexer,col_indexer] = value instead\n",
      "\n",
      "See the caveats in the documentation: https://pandas.pydata.org/pandas-docs/stable/user_guide/indexing.html#returning-a-view-versus-a-copy\n",
      "  dfYear['pub_year']=dfYear.apply(lambda r: r['pub_year'].split(', ')[1],1)\n"
     ]
    }
   ],
   "source": [
    "dfYear['pub_year']=dfYear.apply(lambda r: r['pub_year'].split(', ')[1],1)"
   ]
  },
  {
   "cell_type": "code",
   "execution_count": 60,
   "metadata": {},
   "outputs": [
    {
     "name": "stderr",
     "output_type": "stream",
     "text": [
      "C:\\Users\\jenni\\AppData\\Local\\Temp\\ipykernel_12028\\3935909612.py:1: SettingWithCopyWarning: \n",
      "A value is trying to be set on a copy of a slice from a DataFrame.\n",
      "Try using .loc[row_indexer,col_indexer] = value instead\n",
      "\n",
      "See the caveats in the documentation: https://pandas.pydata.org/pandas-docs/stable/user_guide/indexing.html#returning-a-view-versus-a-copy\n",
      "  dfYear['pub_year']=dfYear['pub_year'].astype(np.int32)\n"
     ]
    }
   ],
   "source": [
    "dfYear['pub_year']=dfYear['pub_year'].astype(np.int32)"
   ]
  },
  {
   "cell_type": "code",
   "execution_count": 61,
   "metadata": {},
   "outputs": [],
   "source": [
    "dfYear.loc[dfYear['pub_year']>dt.date.today().year, 'pub_year']=0"
   ]
  },
  {
   "cell_type": "code",
   "execution_count": 62,
   "metadata": {},
   "outputs": [
    {
     "name": "stderr",
     "output_type": "stream",
     "text": [
      "C:\\Users\\jenni\\AppData\\Local\\Temp\\ipykernel_12028\\1159742569.py:1: SettingWithCopyWarning: \n",
      "A value is trying to be set on a copy of a slice from a DataFrame.\n",
      "Try using .loc[row_indexer,col_indexer] = value instead\n",
      "\n",
      "See the caveats in the documentation: https://pandas.pydata.org/pandas-docs/stable/user_guide/indexing.html#returning-a-view-versus-a-copy\n",
      "  dfYear['pub_year']=dfYear['pub_year'].mask(dfYear['pub_year']==0)\n"
     ]
    }
   ],
   "source": [
    "dfYear['pub_year']=dfYear['pub_year'].mask(dfYear['pub_year']==0)"
   ]
  },
  {
   "cell_type": "code",
   "execution_count": 63,
   "metadata": {},
   "outputs": [
    {
     "data": {
      "text/plain": [
       "count   2152309.00\n",
       "mean       2008.14\n",
       "std          57.80\n",
       "min           1.00\n",
       "25%        2010.00\n",
       "50%        2016.00\n",
       "75%        2019.00\n",
       "max        2023.00\n",
       "Name: pub_year, dtype: float64"
      ]
     },
     "execution_count": 63,
     "metadata": {},
     "output_type": "execute_result"
    }
   ],
   "source": [
    "dfYear['pub_year'].describe()"
   ]
  },
  {
   "cell_type": "code",
   "execution_count": 64,
   "metadata": {},
   "outputs": [
    {
     "name": "stderr",
     "output_type": "stream",
     "text": [
      "C:\\Users\\jenni\\AppData\\Local\\Temp\\ipykernel_12028\\1268234461.py:1: SettingWithCopyWarning: \n",
      "A value is trying to be set on a copy of a slice from a DataFrame\n",
      "\n",
      "See the caveats in the documentation: https://pandas.pydata.org/pandas-docs/stable/user_guide/indexing.html#returning-a-view-versus-a-copy\n",
      "  dfYear['publicationyear'].fillna('0', inplace=True)\n"
     ]
    }
   ],
   "source": [
    "dfYear['publicationyear'].fillna('0', inplace=True)"
   ]
  },
  {
   "cell_type": "code",
   "execution_count": 65,
   "metadata": {},
   "outputs": [
    {
     "name": "stderr",
     "output_type": "stream",
     "text": [
      "C:\\Users\\jenni\\AppData\\Local\\Temp\\ipykernel_12028\\3325223497.py:42: SettingWithCopyWarning: \n",
      "A value is trying to be set on a copy of a slice from a DataFrame.\n",
      "Try using .loc[row_indexer,col_indexer] = value instead\n",
      "\n",
      "See the caveats in the documentation: https://pandas.pydata.org/pandas-docs/stable/user_guide/indexing.html#returning-a-view-versus-a-copy\n",
      "  dfYear['publicationyear']=dfYear['publicationyear'].apply(pub_yearClean)\n"
     ]
    }
   ],
   "source": [
    "def pub_yearClean(year):\n",
    "    if ',' in year:\n",
    "        year=year.split(',')[1]\n",
    "    elif '-' in year:\n",
    "        year=year.split('-')[0]\n",
    "    elif 'rerinted' in year:\n",
    "        year=year.split(' ')[0]\n",
    "    elif 'Shōwa' in year:\n",
    "        year=year.split(' ')\n",
    "        if len(year)==3:\n",
    "            year=year[2]\n",
    "        else:\n",
    "            year=year[1]\n",
    "    elif 'or' in year:\n",
    "        year=year.split(' ')[0]\n",
    "    elif 'date of ubliation not identified' in year:\n",
    "        year='0'\n",
    "    elif len(year) == 9:\n",
    "        year=year.split(' ')[0]\n",
    "    elif 'Min guo' in year:\n",
    "        year=year.split(' ')[3]\n",
    "    elif 'Heisei' in year:\n",
    "        year=year.split(' ')[2]\n",
    "    elif 'Aril' in year:\n",
    "        year='0'\n",
    "    elif 'ie' in year:\n",
    "        year=year.replace(' ', '')\n",
    "        year=year.split('ie')[0]\n",
    "    elif '' == year:\n",
    "        year='0'\n",
    "    year=year.replace('[', '')\n",
    "    year=year.replace(']', '')\n",
    "    year=year.replace('c', '')\n",
    "    year=year.replace('.', '')\n",
    "    year=year.replace('p', '')\n",
    "    year=year.replace('?', '')\n",
    "    year=year.replace('©', '')\n",
    "    if not year.isdigit():\n",
    "        year='0'\n",
    "    return year\n",
    "\n",
    "dfYear['publicationyear']=dfYear['publicationyear'].apply(pub_yearClean)"
   ]
  },
  {
   "cell_type": "code",
   "execution_count": 66,
   "metadata": {},
   "outputs": [
    {
     "name": "stderr",
     "output_type": "stream",
     "text": [
      "C:\\Users\\jenni\\AppData\\Local\\Temp\\ipykernel_12028\\3828991437.py:1: SettingWithCopyWarning: \n",
      "A value is trying to be set on a copy of a slice from a DataFrame.\n",
      "Try using .loc[row_indexer,col_indexer] = value instead\n",
      "\n",
      "See the caveats in the documentation: https://pandas.pydata.org/pandas-docs/stable/user_guide/indexing.html#returning-a-view-versus-a-copy\n",
      "  dfYear['publicationyear']=dfYear['publicationyear'].astype(np.int32)\n"
     ]
    }
   ],
   "source": [
    "dfYear['publicationyear']=dfYear['publicationyear'].astype(np.int32)"
   ]
  },
  {
   "cell_type": "code",
   "execution_count": 67,
   "metadata": {},
   "outputs": [
    {
     "name": "stderr",
     "output_type": "stream",
     "text": [
      "C:\\Users\\jenni\\AppData\\Local\\Temp\\ipykernel_12028\\2560207376.py:6: SettingWithCopyWarning: \n",
      "A value is trying to be set on a copy of a slice from a DataFrame.\n",
      "Try using .loc[row_indexer,col_indexer] = value instead\n",
      "\n",
      "See the caveats in the documentation: https://pandas.pydata.org/pandas-docs/stable/user_guide/indexing.html#returning-a-view-versus-a-copy\n",
      "  dfYear['publicationyear']=dfYear['publicationyear'].apply(check)\n",
      "C:\\Users\\jenni\\AppData\\Local\\Temp\\ipykernel_12028\\2560207376.py:7: SettingWithCopyWarning: \n",
      "A value is trying to be set on a copy of a slice from a DataFrame.\n",
      "Try using .loc[row_indexer,col_indexer] = value instead\n",
      "\n",
      "See the caveats in the documentation: https://pandas.pydata.org/pandas-docs/stable/user_guide/indexing.html#returning-a-view-versus-a-copy\n",
      "  dfYear['pub_year']=dfYear['pub_year'].apply(check)\n"
     ]
    }
   ],
   "source": [
    "def check(year):\n",
    "    if len(str(year))==2:\n",
    "        year=year+2000\n",
    "    return year\n",
    "\n",
    "dfYear['publicationyear']=dfYear['publicationyear'].apply(check)\n",
    "dfYear['pub_year']=dfYear['pub_year'].apply(check)"
   ]
  },
  {
   "cell_type": "code",
   "execution_count": 68,
   "metadata": {},
   "outputs": [
    {
     "name": "stderr",
     "output_type": "stream",
     "text": [
      "C:\\Users\\jenni\\AppData\\Local\\Temp\\ipykernel_12028\\2134308985.py:1: SettingWithCopyWarning: \n",
      "A value is trying to be set on a copy of a slice from a DataFrame.\n",
      "Try using .loc[row_indexer,col_indexer] = value instead\n",
      "\n",
      "See the caveats in the documentation: https://pandas.pydata.org/pandas-docs/stable/user_guide/indexing.html#returning-a-view-versus-a-copy\n",
      "  dfYear['publicationyear']=dfYear['publicationyear'].mask(dfYear['publicationyear']==0)\n"
     ]
    }
   ],
   "source": [
    "dfYear['publicationyear']=dfYear['publicationyear'].mask(dfYear['publicationyear']==0)"
   ]
  },
  {
   "cell_type": "code",
   "execution_count": 69,
   "metadata": {},
   "outputs": [],
   "source": [
    "dfYear=dfYear.bfill(axis='columns')"
   ]
  },
  {
   "cell_type": "code",
   "execution_count": 70,
   "metadata": {},
   "outputs": [],
   "source": [
    "dfYear.loc[dfYear['publicationyear']>dt.date.today().year, 'publicationyear']=np.nan\n",
    "dfYear.loc[dfYear['publicationyear']<1000, 'publicationyear']=np.nan"
   ]
  },
  {
   "cell_type": "code",
   "execution_count": 71,
   "metadata": {},
   "outputs": [
    {
     "data": {
      "text/plain": [
       "count   2158064.00\n",
       "mean       2014.09\n",
       "std           9.01\n",
       "min        1107.00\n",
       "25%        2012.00\n",
       "50%        2017.00\n",
       "75%        2019.00\n",
       "max        2023.00\n",
       "Name: publicationyear, dtype: float64"
      ]
     },
     "execution_count": 71,
     "metadata": {},
     "output_type": "execute_result"
    }
   ],
   "source": [
    "dfYear['publicationyear'].describe()"
   ]
  },
  {
   "cell_type": "code",
   "execution_count": 72,
   "metadata": {},
   "outputs": [],
   "source": [
    "dfYear.drop('pub_year', axis=1, inplace=True)"
   ]
  },
  {
   "cell_type": "code",
   "execution_count": 73,
   "metadata": {},
   "outputs": [],
   "source": [
    "df=df.merge(dfYear, left_index=True, right_index=True)"
   ]
  },
  {
   "cell_type": "code",
   "execution_count": 74,
   "metadata": {},
   "outputs": [],
   "source": [
    "df.dropna(subset=['publicationyear'], inplace=True)"
   ]
  },
  {
   "cell_type": "code",
   "execution_count": 75,
   "metadata": {},
   "outputs": [
    {
     "data": {
      "text/html": [
       "<div>\n",
       "<style scoped>\n",
       "    .dataframe tbody tr th:only-of-type {\n",
       "        vertical-align: middle;\n",
       "    }\n",
       "\n",
       "    .dataframe tbody tr th {\n",
       "        vertical-align: top;\n",
       "    }\n",
       "\n",
       "    .dataframe thead th {\n",
       "        text-align: right;\n",
       "    }\n",
       "</style>\n",
       "<table border=\"1\" class=\"dataframe\">\n",
       "  <thead>\n",
       "    <tr style=\"text-align: right;\">\n",
       "      <th></th>\n",
       "      <th>checkoutyear</th>\n",
       "      <th>checkoutmonth</th>\n",
       "      <th>checkouts</th>\n",
       "      <th>title</th>\n",
       "      <th>creator</th>\n",
       "      <th>subjects</th>\n",
       "      <th>publisher_x</th>\n",
       "      <th>pages</th>\n",
       "      <th>rating</th>\n",
       "      <th>count_ratings</th>\n",
       "      <th>count_reviews</th>\n",
       "      <th>genres</th>\n",
       "      <th>perc_5stars</th>\n",
       "      <th>perc_4stars</th>\n",
       "      <th>perc_3stars</th>\n",
       "      <th>perc_2stars</th>\n",
       "      <th>perc_1stars</th>\n",
       "      <th>count_books_author</th>\n",
       "      <th>count_followers_author</th>\n",
       "      <th>author</th>\n",
       "      <th>awards</th>\n",
       "      <th>publisher_y</th>\n",
       "      <th>publicationyear</th>\n",
       "    </tr>\n",
       "  </thead>\n",
       "  <tbody>\n",
       "    <tr>\n",
       "      <th>0</th>\n",
       "      <td>2020</td>\n",
       "      <td>2</td>\n",
       "      <td>1</td>\n",
       "      <td>What's it really like to be a carpenter? / Chr...</td>\n",
       "      <td>Honders, Christine</td>\n",
       "      <td>Carpentry Vocational guidance Juvenile literat...</td>\n",
       "      <td>PowerKids Press,</td>\n",
       "      <td>24.00</td>\n",
       "      <td>3.92</td>\n",
       "      <td>0</td>\n",
       "      <td>0</td>\n",
       "      <td>NaN</td>\n",
       "      <td>0</td>\n",
       "      <td>0</td>\n",
       "      <td>0</td>\n",
       "      <td>0</td>\n",
       "      <td>0</td>\n",
       "      <td>84.00</td>\n",
       "      <td>1.00</td>\n",
       "      <td>Christine Honders</td>\n",
       "      <td>0</td>\n",
       "      <td>\":\"PowerKids Press\"</td>\n",
       "      <td>2020.00</td>\n",
       "    </tr>\n",
       "    <tr>\n",
       "      <th>1</th>\n",
       "      <td>2020</td>\n",
       "      <td>2</td>\n",
       "      <td>2</td>\n",
       "      <td>Nana in the city / by Lauren Castillo.</td>\n",
       "      <td>Castillo, Lauren</td>\n",
       "      <td>City and town life Juvenile fiction, Grandmoth...</td>\n",
       "      <td>Clarion Books, Houghton Mifflin Harcourt,</td>\n",
       "      <td>40.00</td>\n",
       "      <td>4.09</td>\n",
       "      <td>2710</td>\n",
       "      <td>581</td>\n",
       "      <td>Genres,Picture Books,Family,Childrens,Fiction,...</td>\n",
       "      <td>34</td>\n",
       "      <td>43</td>\n",
       "      <td>19</td>\n",
       "      <td>2</td>\n",
       "      <td>1</td>\n",
       "      <td>28.00</td>\n",
       "      <td>141.00</td>\n",
       "      <td>Lauren Castillo</td>\n",
       "      <td>1</td>\n",
       "      <td>\":\"Clarion Books\"</td>\n",
       "      <td>2014.00</td>\n",
       "    </tr>\n",
       "    <tr>\n",
       "      <th>2</th>\n",
       "      <td>2020</td>\n",
       "      <td>2</td>\n",
       "      <td>2</td>\n",
       "      <td>Blindness / José Saramago ; translated from th...</td>\n",
       "      <td>Saramago, José</td>\n",
       "      <td>Blindness Fiction, Allegories, Psychological f...</td>\n",
       "      <td>Harcourt Brace &amp; Company,</td>\n",
       "      <td>293.00</td>\n",
       "      <td>4.16</td>\n",
       "      <td>263610</td>\n",
       "      <td>21675</td>\n",
       "      <td>Genres,Fiction,Dystopia,Science Fiction,Classi...</td>\n",
       "      <td>44</td>\n",
       "      <td>35</td>\n",
       "      <td>14</td>\n",
       "      <td>4</td>\n",
       "      <td>1</td>\n",
       "      <td>313.00</td>\n",
       "      <td>14100.00</td>\n",
       "      <td>José Saramago</td>\n",
       "      <td>2</td>\n",
       "      <td>\":\"Houghton Mifflin\"</td>\n",
       "      <td>1998.00</td>\n",
       "    </tr>\n",
       "    <tr>\n",
       "      <th>3</th>\n",
       "      <td>2020</td>\n",
       "      <td>2</td>\n",
       "      <td>4</td>\n",
       "      <td>The liar's girl / Catherine Ryan Howard.</td>\n",
       "      <td>Howard, Catherine Ryan</td>\n",
       "      <td>Serial murderers Fiction, Murder Investigation...</td>\n",
       "      <td>Blackstone Publishing,</td>\n",
       "      <td>330.00</td>\n",
       "      <td>3.92</td>\n",
       "      <td>17642</td>\n",
       "      <td>1642</td>\n",
       "      <td>Genres,Mystery,Thriller,Fiction,Audiobook,Myst...</td>\n",
       "      <td>24</td>\n",
       "      <td>48</td>\n",
       "      <td>23</td>\n",
       "      <td>3</td>\n",
       "      <td>1</td>\n",
       "      <td>22.00</td>\n",
       "      <td>2689.00</td>\n",
       "      <td>Catherine Ryan Howard</td>\n",
       "      <td>1</td>\n",
       "      <td>\":\"Blackstone Publishing\"</td>\n",
       "      <td>2018.00</td>\n",
       "    </tr>\n",
       "    <tr>\n",
       "      <th>4</th>\n",
       "      <td>2020</td>\n",
       "      <td>2</td>\n",
       "      <td>1</td>\n",
       "      <td>The aloha quilt / Jennifer Chiaverini.</td>\n",
       "      <td>Chiaverini, Jennifer</td>\n",
       "      <td>Compson Sylvia Fictitious character Fiction, Q...</td>\n",
       "      <td>Thorndike Press,</td>\n",
       "      <td>324.00</td>\n",
       "      <td>3.89</td>\n",
       "      <td>4946</td>\n",
       "      <td>653</td>\n",
       "      <td>Genres,Fiction,Quilting,Chick Lit,Historical F...</td>\n",
       "      <td>29</td>\n",
       "      <td>37</td>\n",
       "      <td>27</td>\n",
       "      <td>5</td>\n",
       "      <td>1</td>\n",
       "      <td>56.00</td>\n",
       "      <td>3890.00</td>\n",
       "      <td>Jennifer Chiaverini</td>\n",
       "      <td>0</td>\n",
       "      <td>\":\"Simon \\u0026 Schuster\"</td>\n",
       "      <td>2010.00</td>\n",
       "    </tr>\n",
       "  </tbody>\n",
       "</table>\n",
       "</div>"
      ],
      "text/plain": [
       "   checkoutyear  checkoutmonth  checkouts  \\\n",
       "0          2020              2          1   \n",
       "1          2020              2          2   \n",
       "2          2020              2          2   \n",
       "3          2020              2          4   \n",
       "4          2020              2          1   \n",
       "\n",
       "                                               title                 creator  \\\n",
       "0  What's it really like to be a carpenter? / Chr...      Honders, Christine   \n",
       "1             Nana in the city / by Lauren Castillo.        Castillo, Lauren   \n",
       "2  Blindness / José Saramago ; translated from th...          Saramago, José   \n",
       "3           The liar's girl / Catherine Ryan Howard.  Howard, Catherine Ryan   \n",
       "4             The aloha quilt / Jennifer Chiaverini.    Chiaverini, Jennifer   \n",
       "\n",
       "                                            subjects  \\\n",
       "0  Carpentry Vocational guidance Juvenile literat...   \n",
       "1  City and town life Juvenile fiction, Grandmoth...   \n",
       "2  Blindness Fiction, Allegories, Psychological f...   \n",
       "3  Serial murderers Fiction, Murder Investigation...   \n",
       "4  Compson Sylvia Fictitious character Fiction, Q...   \n",
       "\n",
       "                                 publisher_x  pages  rating  count_ratings  \\\n",
       "0                           PowerKids Press,  24.00    3.92              0   \n",
       "1  Clarion Books, Houghton Mifflin Harcourt,  40.00    4.09           2710   \n",
       "2                  Harcourt Brace & Company, 293.00    4.16         263610   \n",
       "3                     Blackstone Publishing, 330.00    3.92          17642   \n",
       "4                           Thorndike Press, 324.00    3.89           4946   \n",
       "\n",
       "   count_reviews                                             genres  \\\n",
       "0              0                                                NaN   \n",
       "1            581  Genres,Picture Books,Family,Childrens,Fiction,...   \n",
       "2          21675  Genres,Fiction,Dystopia,Science Fiction,Classi...   \n",
       "3           1642  Genres,Mystery,Thriller,Fiction,Audiobook,Myst...   \n",
       "4            653  Genres,Fiction,Quilting,Chick Lit,Historical F...   \n",
       "\n",
       "   perc_5stars  perc_4stars  perc_3stars  perc_2stars  perc_1stars  \\\n",
       "0            0            0            0            0            0   \n",
       "1           34           43           19            2            1   \n",
       "2           44           35           14            4            1   \n",
       "3           24           48           23            3            1   \n",
       "4           29           37           27            5            1   \n",
       "\n",
       "   count_books_author  count_followers_author                 author  awards  \\\n",
       "0               84.00                    1.00      Christine Honders       0   \n",
       "1               28.00                  141.00        Lauren Castillo       1   \n",
       "2              313.00                14100.00          José Saramago       2   \n",
       "3               22.00                 2689.00  Catherine Ryan Howard       1   \n",
       "4               56.00                 3890.00    Jennifer Chiaverini       0   \n",
       "\n",
       "                 publisher_y  publicationyear  \n",
       "0        \":\"PowerKids Press\"          2020.00  \n",
       "1          \":\"Clarion Books\"          2014.00  \n",
       "2       \":\"Houghton Mifflin\"          1998.00  \n",
       "3  \":\"Blackstone Publishing\"          2018.00  \n",
       "4  \":\"Simon \\u0026 Schuster\"          2010.00  "
      ]
     },
     "execution_count": 75,
     "metadata": {},
     "output_type": "execute_result"
    }
   ],
   "source": [
    "df.head()"
   ]
  },
  {
   "cell_type": "code",
   "execution_count": null,
   "metadata": {},
   "outputs": [],
   "source": [
    "df.to_csv('2004.csv')"
   ]
  }
 ],
 "metadata": {
  "kernelspec": {
   "display_name": "Python 3",
   "language": "python",
   "name": "python3"
  },
  "language_info": {
   "codemirror_mode": {
    "name": "ipython",
    "version": 3
   },
   "file_extension": ".py",
   "mimetype": "text/x-python",
   "name": "python",
   "nbconvert_exporter": "python",
   "pygments_lexer": "ipython3",
   "version": "3.10.4"
  },
  "orig_nbformat": 4
 },
 "nbformat": 4,
 "nbformat_minor": 2
}
